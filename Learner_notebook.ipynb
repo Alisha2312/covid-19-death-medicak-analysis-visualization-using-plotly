{
  "nbformat": 4,
  "nbformat_minor": 0,
  "metadata": {
    "colab": {
      "provenance": [],
      "include_colab_link": true
    },
    "kernelspec": {
      "name": "python3",
      "display_name": "Python 3"
    }
  },
  "cells": [
    {
      "cell_type": "markdown",
      "metadata": {
        "id": "view-in-github",
        "colab_type": "text"
      },
      "source": [
        "<a href=\"https://colab.research.google.com/github/Alisha2312/covid-19-death-medicak-analysis-visualization-using-plotly/blob/main/Learner_notebook.ipynb\" target=\"_parent\"><img src=\"https://colab.research.google.com/assets/colab-badge.svg\" alt=\"Open In Colab\"/></a>"
      ]
    },
    {
      "cell_type": "markdown",
      "metadata": {
        "id": "oiy1E55mYBY7"
      },
      "source": [
        "#Covid-19 Pre-existing Medical Condition Analysis using Plotly Express, Choropleth maps and WordCloud Text Visualization"
      ]
    },
    {
      "cell_type": "code",
      "metadata": {
        "id": "I63l3xksXZzp"
      },
      "source": [
        "## Switch to GPU mode for faster Computation (Runtime> Change runtime> GPU)"
      ],
      "execution_count": null,
      "outputs": []
    },
    {
      "cell_type": "markdown",
      "metadata": {
        "id": "95Cg3UK6YfB4"
      },
      "source": [
        "##Task 1 : Importing all the necessary libraries"
      ]
    },
    {
      "cell_type": "code",
      "metadata": {
        "id": "tyDqe4sFYfp9"
      },
      "source": [
        "import pandas as pd       #Data analysis and Manipulation\n",
        "import plotly.express as px    #Data Visualization (one line of code for one graph) \n",
        "import matplotlib.pyplot as plt   #Data Visualization for WordCloud\n",
        "from wordcloud import WordCloud   #Wordcloud Text Visualization\n"
      ],
      "execution_count": 3,
      "outputs": []
    },
    {
      "cell_type": "code",
      "metadata": {
        "id": "hG0VnKyUYzb-"
      },
      "source": [
        "import plotly.io as pio\n",
        "pio.renderers.default = 'colab'     # To initialize plotly (default mode of plotly if OFF as it consumes a lot of space)"
      ],
      "execution_count": 5,
      "outputs": []
    },
    {
      "cell_type": "markdown",
      "metadata": {
        "id": "NFrlaaVCZ76Z"
      },
      "source": [
        "##Task 2 : Importing the dataset and Visualizing it (Dataset 1 : Worldometer dataset)"
      ]
    },
    {
      "cell_type": "code",
      "metadata": {
        "id": "FPEvhxQMZ8lB",
        "colab": {
          "base_uri": "https://localhost:8080/",
          "height": 839
        },
        "outputId": "cc6318ce-fb19-4472-8e90-aa9c21c29712"
      },
      "source": [
        "from google.colab import files\n",
        "files.upload()\n"
      ],
      "execution_count": 6,
      "outputs": [
        {
          "output_type": "display_data",
          "data": {
            "text/plain": [
              "<IPython.core.display.HTML object>"
            ],
            "text/html": [
              "\n",
              "     <input type=\"file\" id=\"files-7777803c-6586-428c-a99a-0d4b6e5626bc\" name=\"files[]\" multiple disabled\n",
              "        style=\"border:none\" />\n",
              "     <output id=\"result-7777803c-6586-428c-a99a-0d4b6e5626bc\">\n",
              "      Upload widget is only available when the cell has been executed in the\n",
              "      current browser session. Please rerun this cell to enable.\n",
              "      </output>\n",
              "      <script>// Copyright 2017 Google LLC\n",
              "//\n",
              "// Licensed under the Apache License, Version 2.0 (the \"License\");\n",
              "// you may not use this file except in compliance with the License.\n",
              "// You may obtain a copy of the License at\n",
              "//\n",
              "//      http://www.apache.org/licenses/LICENSE-2.0\n",
              "//\n",
              "// Unless required by applicable law or agreed to in writing, software\n",
              "// distributed under the License is distributed on an \"AS IS\" BASIS,\n",
              "// WITHOUT WARRANTIES OR CONDITIONS OF ANY KIND, either express or implied.\n",
              "// See the License for the specific language governing permissions and\n",
              "// limitations under the License.\n",
              "\n",
              "/**\n",
              " * @fileoverview Helpers for google.colab Python module.\n",
              " */\n",
              "(function(scope) {\n",
              "function span(text, styleAttributes = {}) {\n",
              "  const element = document.createElement('span');\n",
              "  element.textContent = text;\n",
              "  for (const key of Object.keys(styleAttributes)) {\n",
              "    element.style[key] = styleAttributes[key];\n",
              "  }\n",
              "  return element;\n",
              "}\n",
              "\n",
              "// Max number of bytes which will be uploaded at a time.\n",
              "const MAX_PAYLOAD_SIZE = 100 * 1024;\n",
              "\n",
              "function _uploadFiles(inputId, outputId) {\n",
              "  const steps = uploadFilesStep(inputId, outputId);\n",
              "  const outputElement = document.getElementById(outputId);\n",
              "  // Cache steps on the outputElement to make it available for the next call\n",
              "  // to uploadFilesContinue from Python.\n",
              "  outputElement.steps = steps;\n",
              "\n",
              "  return _uploadFilesContinue(outputId);\n",
              "}\n",
              "\n",
              "// This is roughly an async generator (not supported in the browser yet),\n",
              "// where there are multiple asynchronous steps and the Python side is going\n",
              "// to poll for completion of each step.\n",
              "// This uses a Promise to block the python side on completion of each step,\n",
              "// then passes the result of the previous step as the input to the next step.\n",
              "function _uploadFilesContinue(outputId) {\n",
              "  const outputElement = document.getElementById(outputId);\n",
              "  const steps = outputElement.steps;\n",
              "\n",
              "  const next = steps.next(outputElement.lastPromiseValue);\n",
              "  return Promise.resolve(next.value.promise).then((value) => {\n",
              "    // Cache the last promise value to make it available to the next\n",
              "    // step of the generator.\n",
              "    outputElement.lastPromiseValue = value;\n",
              "    return next.value.response;\n",
              "  });\n",
              "}\n",
              "\n",
              "/**\n",
              " * Generator function which is called between each async step of the upload\n",
              " * process.\n",
              " * @param {string} inputId Element ID of the input file picker element.\n",
              " * @param {string} outputId Element ID of the output display.\n",
              " * @return {!Iterable<!Object>} Iterable of next steps.\n",
              " */\n",
              "function* uploadFilesStep(inputId, outputId) {\n",
              "  const inputElement = document.getElementById(inputId);\n",
              "  inputElement.disabled = false;\n",
              "\n",
              "  const outputElement = document.getElementById(outputId);\n",
              "  outputElement.innerHTML = '';\n",
              "\n",
              "  const pickedPromise = new Promise((resolve) => {\n",
              "    inputElement.addEventListener('change', (e) => {\n",
              "      resolve(e.target.files);\n",
              "    });\n",
              "  });\n",
              "\n",
              "  const cancel = document.createElement('button');\n",
              "  inputElement.parentElement.appendChild(cancel);\n",
              "  cancel.textContent = 'Cancel upload';\n",
              "  const cancelPromise = new Promise((resolve) => {\n",
              "    cancel.onclick = () => {\n",
              "      resolve(null);\n",
              "    };\n",
              "  });\n",
              "\n",
              "  // Wait for the user to pick the files.\n",
              "  const files = yield {\n",
              "    promise: Promise.race([pickedPromise, cancelPromise]),\n",
              "    response: {\n",
              "      action: 'starting',\n",
              "    }\n",
              "  };\n",
              "\n",
              "  cancel.remove();\n",
              "\n",
              "  // Disable the input element since further picks are not allowed.\n",
              "  inputElement.disabled = true;\n",
              "\n",
              "  if (!files) {\n",
              "    return {\n",
              "      response: {\n",
              "        action: 'complete',\n",
              "      }\n",
              "    };\n",
              "  }\n",
              "\n",
              "  for (const file of files) {\n",
              "    const li = document.createElement('li');\n",
              "    li.append(span(file.name, {fontWeight: 'bold'}));\n",
              "    li.append(span(\n",
              "        `(${file.type || 'n/a'}) - ${file.size} bytes, ` +\n",
              "        `last modified: ${\n",
              "            file.lastModifiedDate ? file.lastModifiedDate.toLocaleDateString() :\n",
              "                                    'n/a'} - `));\n",
              "    const percent = span('0% done');\n",
              "    li.appendChild(percent);\n",
              "\n",
              "    outputElement.appendChild(li);\n",
              "\n",
              "    const fileDataPromise = new Promise((resolve) => {\n",
              "      const reader = new FileReader();\n",
              "      reader.onload = (e) => {\n",
              "        resolve(e.target.result);\n",
              "      };\n",
              "      reader.readAsArrayBuffer(file);\n",
              "    });\n",
              "    // Wait for the data to be ready.\n",
              "    let fileData = yield {\n",
              "      promise: fileDataPromise,\n",
              "      response: {\n",
              "        action: 'continue',\n",
              "      }\n",
              "    };\n",
              "\n",
              "    // Use a chunked sending to avoid message size limits. See b/62115660.\n",
              "    let position = 0;\n",
              "    do {\n",
              "      const length = Math.min(fileData.byteLength - position, MAX_PAYLOAD_SIZE);\n",
              "      const chunk = new Uint8Array(fileData, position, length);\n",
              "      position += length;\n",
              "\n",
              "      const base64 = btoa(String.fromCharCode.apply(null, chunk));\n",
              "      yield {\n",
              "        response: {\n",
              "          action: 'append',\n",
              "          file: file.name,\n",
              "          data: base64,\n",
              "        },\n",
              "      };\n",
              "\n",
              "      let percentDone = fileData.byteLength === 0 ?\n",
              "          100 :\n",
              "          Math.round((position / fileData.byteLength) * 100);\n",
              "      percent.textContent = `${percentDone}% done`;\n",
              "\n",
              "    } while (position < fileData.byteLength);\n",
              "  }\n",
              "\n",
              "  // All done.\n",
              "  yield {\n",
              "    response: {\n",
              "      action: 'complete',\n",
              "    }\n",
              "  };\n",
              "}\n",
              "\n",
              "scope.google = scope.google || {};\n",
              "scope.google.colab = scope.google.colab || {};\n",
              "scope.google.colab._files = {\n",
              "  _uploadFiles,\n",
              "  _uploadFilesContinue,\n",
              "};\n",
              "})(self);\n",
              "</script> "
            ]
          },
          "metadata": {}
        },
        {
          "output_type": "stream",
          "name": "stdout",
          "text": [
            "Saving covid_worldometer_data.csv to covid_worldometer_data (1).csv\n"
          ]
        },
        {
          "output_type": "execute_result",
          "data": {
            "text/plain": [
              "{'covid_worldometer_data.csv': b'S.no,Country,TotalCases,TotalDeaths,Total Recovered,Active cases,Totalcases/1M,TotalDeath/1M,iso_alpha\\n1,USA,\"23,848,410\",\"397,994\",\"14,112,119\",\"9,338,297\",\"71,822\",\"1,199\",USA\\n2,India,\"10,528,508\",\"151,954\",\"10,162,738\",\"213,816\",\"7,589\",110,IND\\n3,Brazil,\"8,326,115\",\"207,160\",\"7,339,703\",\"779,252\",\"39,021\",971,BRA\\n4,Russia,\"3,495,816\",\"63,940\",\"2,882,044\",\"549,832\",\"23,949\",438,RUS\\n5,UK,\"3,260,258\",\"86,015\",\"1,406,967\",\"1,767,276\",\"47,890\",\"1,263\",UKR\\n6,France,\"2,851,670\",\"69,313\",\"206,802\",\"2,575,555\",\"43,636\",\"1,061\",FRA\\n7,Turkey,\"2,364,801\",\"23,495\",\"2,236,938\",\"104,368\",\"27,878\",277,TUR\\n8,Italy,\"2,336,279\",\"80,848\",\"1,694,051\",\"561,380\",\"38,671\",\"1,338\",ITA\\n9,Spain,\"2,211,967\",\"53,079\",,,\"47,300\",\"1,135\",ESP\\n10,Germany,\"2,004,011\",\"45,492\",\"1,641,200\",\"317,319\",\"23,878\",542,DEU\\n11,Colombia,\"1,849,101\",\"47,491\",\"1,683,835\",\"117,775\",\"36,133\",928,COL\\n12,Argentina,\"1,770,715\",\"45,125\",\"1,549,490\",\"176,100\",\"38,986\",994,ARG\\n13,Mexico,\"1,588,369\",\"137,916\",\"1,185,621\",\"264,832\",\"12,250\",\"1,064\",MEX\\n14,Poland,\"1,414,362\",\"32,456\",\"1,155,823\",\"226,083\",\"37,393\",858,POL\\n15,Iran,\"1,311,810\",\"56,538\",\"1,101,599\",\"153,673\",\"15,511\",669,IRN\\n16,South Africa,\"1,296,806\",\"35,852\",\"1,049,740\",\"211,214\",\"21,718\",600,ZAF\\n17,Ukraine,\"1,146,963\",\"20,542\",\"847,391\",\"279,030\",\"26,312\",471,UKR\\n18,Peru,\"1,048,662\",\"38,564\",\"976,202\",\"33,896\",\"31,569\",\"1,161\",PER\\n19,Netherlands,\"895,687\",\"12,774\",,,\"52,210\",745,NLD\\n20,Czechia,\"874,605\",\"14,029\",\"717,569\",\"143,007\",\"81,588\",\"1,309\",CZE\\n21,Indonesia,\"869,600\",\"25,246\",\"711,205\",\"133,149\",\"3,161\",92,IDN\\n22,Canada,\"688,891\",\"17,538\",\"593,398\",\"77,955\",\"18,167\",462,CAN\\n23,Romania,\"684,917\",\"17,035\",\"614,545\",\"53,337\",\"35,733\",889,ROU\\n24,Belgium,\"672,886\",\"20,294\",\"46,417\",\"606,175\",\"57,923\",\"1,747\",BEL\\n25,Chile,\"656,712\",\"17,294\",\"614,267\",\"25,151\",\"34,196\",901,CHL\\n26,Iraq,\"606,186\",\"12,922\",\"564,359\",\"28,905\",\"14,893\",317,IRQ\\n27,Israel,\"529,814\",\"3,870\",\"447,308\",\"78,636\",\"57,604\",421,ISR\\n28,Bangladesh,\"525,723\",\"7,849\",\"470,405\",\"47,469\",\"3,175\",47,BGD\\n29,Sweden,\"518,783\",\"10,185\",,,\"51,196\",\"1,005\",SWE\\n30,Portugal,\"517,806\",\"8,384\",\"387,607\",\"121,815\",\"50,862\",824,PRT\\n31,Pakistan,\"514,338\",\"10,863\",\"469,306\",\"34,169\",\"2,305\",49,PAK\\n32,Philippines,\"494,605\",\"9,739\",\"459,252\",\"25,614\",\"4,482\",88,PHL\\n33,Switzerland,\"492,832\",\"8,586\",\"317,600\",\"166,646\",\"56,721\",988,CHE\\n34,Morocco,\"456,334\",\"7,854\",\"431,167\",\"17,313\",\"12,285\",211,MAR\\n35,Austria,\"389,260\",\"6,921\",\"362,931\",\"19,408\",\"43,088\",766,AUT\\n36,Serbia,\"368,072\",\"3,687\",\"31,536\",\"332,849\",\"42,219\",423,SRB\\n37,Saudi Arabia,\"364,440\",\"6,310\",\"356,201\",\"1,929\",\"10,382\",180,SAU\\n38,Hungary,\"347,636\",\"11,066\",\"220,304\",\"116,266\",\"36,036\",\"1,147\",HUN\\n39,Jordan,\"312,043\",\"4,107\",\"294,802\",\"13,134\",\"30,420\",400,JOR\\n40,Japan,\"302,623\",\"4,233\",\"233,665\",\"64,725\",\"2,397\",34,JPN\\n41,Panama,\"291,285\",\"4,651\",\"230,702\",\"55,932\",\"66,944\",\"1,069\",PAN\\n42,Nepal,\"266,546\",\"1,943\",\"260,177\",\"4,426\",\"9,061\",66,NPL\\n43,Georgia,\"245,789\",\"2,893\",\"229,196\",\"13,700\",\"61,678\",726,GEO\\n44,UAE,\"242,969\",726,\"215,820\",\"26,423\",\"24,408\",73, \\n45,Lebanon,\"237,132\",\"1,781\",\"147,746\",\"87,605\",\"34,827\",262,LBN\\n46,Azerbaijan,\"226,200\",\"2,971\",\"213,279\",\"9,950\",\"22,202\",292,AZE\\n47,Ecuador,\"226,002\",\"14,246\",\"193,581\",\"18,175\",\"12,706\",801,ECU\\n48,Croatia,\"223,097\",\"4,517\",\"213,370\",\"5,210\",\"54,527\",\"1,104\",HRV\\n49,Belarus,\"219,663\",\"1,554\",\"202,446\",\"15,663\",\"23,251\",164,BLR\\n50,Slovakia,\"217,978\",\"3,260\",\"160,401\",\"54,317\",\"39,915\",597,SVK\\n51,Bulgaria,\"210,951\",\"8,396\",\"150,370\",\"52,185\",\"30,484\",\"1,213\",BGR\\n52,Dominican Republic,\"187,487\",\"2,428\",\"140,524\",\"44,535\",\"17,190\",223,DOM\\n53,Denmark,\"185,159\",\"1,660\",\"161,194\",\"22,305\",\"31,906\",286,DNK\\n54,Costa Rica,\"183,242\",\"2,401\",\"140,573\",\"40,268\",\"35,795\",469,CRI\\n55,Bolivia,\"181,016\",\"9,530\",\"141,736\",\"29,750\",\"15,394\",810,BOL\\n56,Tunisia,\"170,895\",\"5,478\",\"124,610\",\"40,807\",\"14,379\",461,TUN\\n57,Kazakhstan,\"166,146\",\"2,349\",\"151,838\",\"11,959\",\"8,792\",124,KAZ\\n58,Lithuania,\"164,414\",\"2,346\",\"97,511\",\"64,557\",\"60,859\",868,LTU\\n59,Armenia,\"163,972\",\"2,974\",\"152,320\",\"8,678\",\"55,279\",\"1,003\",ARM\\n60,Ireland,\"163,057\",\"2,488\",\"23,364\",\"137,205\",\"32,825\",501,IRL\\n61,Kuwait,\"156,434\",946,\"150,061\",\"5,427\",\"36,342\",220,KWT\\n62,Egypt,\"153,741\",\"8,421\",\"121,072\",\"24,248\",\"1,487\",81,EGY\\n63,Moldova,\"151,687\",\"3,211\",\"140,983\",\"7,493\",\"37,650\",797,MDA\\n64,Palestine,\"150,505\",\"1,665\",\"136,247\",\"12,593\",\"29,141\",322,PSE\\n65,Malaysia,\"147,855\",578,\"113,288\",\"33,989\",\"4,537\",18,MYS\\n66,Greece,\"147,283\",\"5,387\",\"9,989\",\"131,907\",\"14,168\",518,GRC\\n67,Guatemala,\"146,937\",\"5,151\",\"133,082\",\"8,704\",\"8,121\",285,GTM\\n68,Qatar,\"146,689\",246,\"143,261\",\"3,182\",\"52,243\",88,QAT\\n69,Slovenia,\"145,472\",\"3,093\",\"119,149\",\"23,230\",\"69,969\",\"1,488\",SVN\\n70,Myanmar,\"132,865\",\"2,912\",\"116,100\",\"13,853\",\"2,433\",53,MMR\\n71,Honduras,\"131,963\",\"3,335\",\"59,963\",\"68,665\",\"13,211\",334,HND\\n72,Oman,\"131,264\",\"1,509\",\"123,593\",\"6,162\",\"25,361\",292,OMN\\n73,Ethiopia,\"129,922\",\"2,008\",\"114,749\",\"13,165\",\"1,115\",17,ETH\\n74,Paraguay,\"119,640\",\"2,466\",\"94,983\",\"22,191\",\"16,664\",343,PRY\\n75,Venezuela,\"118,415\",\"1,090\",\"111,999\",\"5,326\",\"4,171\",38,VEN\\n76,Bosnia and Herzegovina,\"117,011\",\"4,411\",\"84,650\",\"27,950\",\"35,786\",\"1,349\",BIH\\n77,Libya,\"107,434\",\"1,645\",\"84,245\",\"21,544\",\"15,522\",238,LBY\\n78,Nigeria,\"105,478\",\"1,405\",\"83,830\",\"20,243\",505,7,NGA\\n79,Algeria,\"103,127\",\"2,822\",\"69,992\",\"30,313\",\"2,329\",64,DZA\\n80,Kenya,\"98,693\",\"1,723\",\"81,933\",\"15,037\",\"1,814\",32,KEN\\n81,Bahrain,\"96,812\",356,\"93,329\",\"3,127\",\"55,869\",205,BHR\\n82,North Macedonia,\"87,986\",\"2,672\",\"69,137\",\"16,177\",\"42,233\",\"1,283\",MKD\\n83,Kyrgyzstan,\"82,857\",\"1,381\",\"78,715\",\"2,761\",\"12,589\",210,KGZ\\n84,Uzbekistan,\"77,845\",619,\"76,335\",891,\"2,308\",18,UZB\\n85,S. Korea,\"71,241\",\"1,217\",\"56,536\",\"13,488\",\"1,389\",24, \\n86,Albania,\"65,994\",\"1,261\",\"39,246\",\"25,487\",\"22,946\",438,ALB\\n87,Singapore,\"59,029\",29,\"58,757\",243,\"10,047\",5,SGP\\n88,Norway,\"57,736\",511,\"46,611\",\"10,614\",\"10,605\",94,NOR\\n89,Ghana,\"56,981\",341,\"55,236\",\"1,404\",\"1,814\",11,GHA\\n90,Montenegro,\"54,316\",740,\"43,940\",\"9,636\",\"86,475\",\"1,178\",MNE\\n91,Afghanistan,\"53,831\",\"2,324\",\"45,298\",\"6,209\",\"1,366\",59,AFG\\n92,Latvia,\"52,982\",920,\"38,417\",\"13,645\",\"28,260\",491,LVA\\n93,Sri Lanka,\"50,899\",251,\"43,747\",\"6,901\",\"2,372\",12,LKA\\n94,El Salvador,\"50,157\",\"1,469\",\"44,304\",\"4,384\",\"7,712\",226,SLV\\n95,Luxembourg,\"48,486\",545,\"45,449\",\"2,492\",\"76,787\",863,LUX\\n96,Finland,\"39,593\",616,\"31,000\",\"7,977\",\"7,140\",111,FIN\\n97,Uganda,\"38,085\",304,\"13,083\",\"24,698\",819,7,UGA\\n98,Estonia,\"35,621\",311,\"25,032\",\"10,278\",\"26,843\",234,EST\\n99,Zambia,\"32,800\",514,\"22,504\",\"9,782\",\"1,758\",28,ZMB\\n100,Uruguay,\"29,989\",280,\"21,685\",\"8,024\",\"8,617\",80,URY\\n101,Namibia,\"29,570\",275,\"25,845\",\"3,450\",\"11,526\",107,NAM\\n102,Australia,\"28,665\",909,\"25,880\",\"1,876\",\"1,117\",35,AUS\\n103,Cyprus,\"28,124\",163,\"2,057\",\"25,904\",\"23,203\",134,CYP\\n104,Cameroon,\"27,336\",451,\"24,892\",\"1,993\",\"1,016\",17,CMR\\n105,Sudan,\"25,730\",\"1,576\",\"15,240\",\"8,914\",580,35,SDN\\n106,Zimbabwe,\"25,368\",636,\"14,714\",\"10,018\",\"1,694\",42,ZWE\\n107,Ivory Coast,\"24,578\",140,\"22,856\",\"1,582\",920,5, \\n108,Mozambique,\"24,269\",211,\"18,352\",\"5,706\",765,7,MOZ\\n109,Senegal,\"22,178\",496,\"18,756\",\"2,926\",\"1,306\",29,SEN\\n110,DRC,\"20,479\",626,\"14,770\",\"5,083\",225,7, \\n111,Angola,\"18,613\",425,\"16,008\",\"2,180\",557,13,AGO\\n112,Madagascar,\"18,001\",267,\"17,447\",287,641,10,MDG\\n113,French Polynesia,\"17,590\",126,\"4,842\",\"12,622\",\"62,423\",447,PYF\\n114,Botswana,\"17,365\",71,\"13,519\",\"3,775\",\"7,305\",30,BWA\\n115,Cuba,\"16,549\",160,\"12,699\",\"3,690\",\"1,462\",14,CUB\\n116,Mauritania,\"15,893\",396,\"14,222\",\"1,275\",\"3,371\",84,MRT\\n117,Malta,\"15,079\",235,\"12,250\",\"2,594\",\"34,102\",531,MLT\\n118,French Guiana,\"14,654\",74,\"9,995\",\"4,585\",\"48,395\",244,GUF\\n119,Maldives,\"14,325\",49,\"13,463\",813,\"26,254\",90,MDV\\n120,Guinea,\"14,051\",81,\"13,301\",669,\"1,055\",6,GIN\\n121,Jamaica,\"13,915\",322,\"11,592\",\"2,001\",\"4,688\",108,JAM\\n122,Tajikistan,\"13,308\",90,\"13,218\",0,\"1,379\",9,TJK\\n123,Syria,\"12,760\",809,\"6,329\",\"5,622\",720,46,SYR\\n124,Cabo Verde,\"12,664\",115,\"11,989\",560,\"22,645\",206,CPV\\n125,Eswatini,\"12,327\",335,\"8,076\",\"3,916\",\"10,566\",287,SWZ\\n126,Belize,\"11,456\",280,\"10,641\",535,\"28,534\",697,BLZ\\n127,Thailand,\"11,450\",69,\"8,288\",\"3,093\",164,1,THA\\n128,Haiti,\"10,635\",238,\"8,903\",\"1,494\",927,21,HTI\\n129,Rwanda,\"10,316\",133,\"6,974\",\"3,209\",786,10,RWA\\n130,Malawi,\"9,991\",275,\"5,866\",\"3,850\",515,14,MWI\\n131,Gabon,\"9,819\",66,\"9,597\",156,\"4,357\",29,GAB\\n132,Hong Kong,\"9,415\",161,\"8,631\",623,\"1,250\",21,HKG\\n133,R\\xc3\\xa9union,\"9,406\",42,\"8,830\",534,\"10,466\",47,REU\\n134,Guadeloupe,\"8,886\",154,\"2,242\",\"6,490\",\"22,206\",385,FRA\\n135,Andorra,\"8,868\",88,\"8,091\",689,\"114,674\",\"1,138\",AND\\n136,Burkina Faso,\"8,809\",97,\"6,877\",\"1,835\",415,5,BFA\\n137,Bahamas,\"8,011\",175,\"6,351\",\"1,485\",\"20,267\",443,BHS\\n138,Mali,\"7,759\",305,\"5,414\",\"2,040\",377,15,MLI\\n139,Trinidad and Tobago,\"7,320\",130,\"6,896\",294,\"5,221\",93,TTO\\n140,Suriname,\"7,300\",139,\"6,543\",618,\"12,384\",236,SUR\\n141,Congo,\"7,160\",112,\"5,846\",\"1,202\",\"1,281\",20,COG\\n142,Guyana,\"6,745\",170,\"6,068\",507,\"8,553\",216,GUY\\n143,Lesotho,\"6,356\",89,\"1,621\",\"4,646\",\"2,954\",41,LSO\\n144,Aruba,\"6,296\",52,\"5,662\",582,\"58,835\",486,ABW\\n145,Martinique,\"6,263\",44,98,\"6,121\",\"16,697\",117,MTQ\\n146,Mayotte,\"6,255\",56,\"2,964\",\"3,235\",\"22,637\",203,FRA\\n147,Nicaragua,\"6,152\",167,\"4,225\",\"1,760\",923,25,NIC\\n148,Iceland,\"5,948\",29,\"5,749\",170,\"17,370\",85,ISL\\n149,Djibouti,\"5,900\",61,\"5,813\",26,\"5,925\",61,DJI\\n150,Equatorial Guinea,\"5,316\",86,\"5,169\",61,\"3,724\",60,GNQ\\n151,CAR,\"4,973\",63,\"4,885\",25,\"1,020\",13,NIC\\n152,Somalia,\"4,744\",130,\"3,666\",948,294,8,SOM\\n153,Cura\\xc3\\xa7ao,\"4,498\",19,\"4,208\",271,\"27,351\",116,NLD\\n154,Togo,\"4,165\",73,\"3,704\",388,497,9,TGO\\n155,Niger,\"4,058\",137,\"2,750\",\"1,171\",164,6,NGA\\n156,Gambia,\"3,893\",126,\"3,689\",78,\"1,587\",51,GMB\\n157,South Sudan,\"3,670\",63,\"3,181\",426,326,6,SSD\\n158,Gibraltar,\"3,509\",25,\"2,343\",\"1,141\",\"104,168\",742,GIB\\n159,Benin,\"3,413\",46,\"3,222\",145,278,4,BEN\\n160,Channel Islands,\"3,337\",76,\"2,997\",264,\"19,098\",435, \\n161,Sierra Leone,\"2,933\",77,\"2,025\",831,364,10,SLE\\n162,Chad,\"2,773\",110,\"2,073\",590,166,7,TCD\\n163,San Marino,\"2,737\",65,\"2,381\",291,\"80,571\",\"1,913\",SMR\\n164,Guinea-Bissau,\"2,478\",45,\"2,400\",33,\"1,243\",23,GNB\\n165,Liechtenstein,\"2,375\",49,\"2,234\",92,\"62,194\",\"1,283\",LIE\\n166,New Zealand,\"2,246\",25,\"2,145\",76,449,5,NZL\\n167,Yemen,\"2,110\",612,\"1,419\",79,70,20,YEM\\n168,Liberia,\"1,878\",84,\"1,701\",93,367,16,LBR\\n169,Eritrea,\"1,805\",6,\"1,014\",785,505,2,ERI\\n170,Sint Maarten,\"1,629\",27,\"1,478\",124,\"37,763\",626,NLD\\n171,Vietnam,\"1,531\",35,\"1,369\",127,16,0.4,VNM\\n172,Mongolia,\"1,491\",2,909,580,451,0.6,MNG\\n173,Comoros,\"1,403\",38,\"1,010\",355,\"1,595\",43,COM\\n174,Monaco,\"1,145\",7,947,191,\"29,067\",178,MCO\\n175,Sao Tome and Principe,\"1,119\",17,990,112,\"5,056\",77,STP\\n176,Burundi,\"1,103\",2,773,328,91,0.2,BDI\\n177,Saint Martin,\"1,076\",12,855,209,\"27,576\",308,MAF\\n178,Barbados,\"1,036\",7,493,536,\"3,603\",24,BRB\\n179,Turks and Caicos,\"1,030\",6,847,177,\"26,412\",154,TCA\\n180,Taiwan,843,7,741,95,35,0.3,TWN\\n181,Papua New Guinea,834,9,755,70,92,1,PNG\\n182,Bhutan,834,1,533,300,\"1,074\",1,BTN\\n183,Diamond Princess,712,13,699,0,,, \\n184,Bermuda,664,12,566,86,\"10,683\",193,BMU\\n185,Faeroe Islands,647,1,623,23,\"13,214\",20, \\n186,Seychelles,627,1,360,266,\"6,354\",10,SYC\\n187,Mauritius,547,10,516,21,430,8,MUS\\n188,Saint Lucia,543,6,321,216,\"2,950\",33,LCA\\n189,Tanzania,509,21,183,305,8,0.3,TZA\\n190,Cambodia,426, ,381,45,25,,KHM\\n191,Isle of Man,417,25,354,38,\"4,890\",293,IMN\\n192,Cayman Islands,368,2,326,40,\"5,564\",30,CYM\\n193,St. Vincent Grenadines,340, ,106,234,\"3,059\",, \\n194,St. Barth,251,1,172,78,\"25,371\",101, \\n195,Caribbean Netherlands,249,3,181,65,\"9,448\",114, \\n196,Antigua and Barbuda,184,6,156,22,\"1,871\",61,ATG\\n197,Brunei ,174,3,168,3,396,7,BRN\\n198,Grenada,132,1,123,8,\"1,170\",9,GRD\\n199,British Virgin Islands,114,1,95,18,\"3,757\",33,VGB\\n200,Dominica,109, ,101,8,\"1,512\",,DMA\\n201,Fiji,53,2,47,4,59,2,FJI\\n202,Timor-Leste,51, ,45,6,38,,TLS\\n203,Macao,46, ,46,0,70,,MAC\\n204,Laos,41, ,41,0,6,, \\n205,New Caledonia,40, ,40,0,139,,NCL\\n206,Saint Kitts and Nevis,34, ,31,3,637,,KNA\\n207,Falkland Islands,32, ,27,5,\"9,055\",,FLK\\n208,Greenland,30, ,29,1,528,,GRL\\n209,Vatican City,27, ,15,12,\"33,666\",,VAT\\n210,Solomon Islands,17, ,10,7,24,,SLB\\n211,Saint Pierre Miquelon,16, ,16,0,\"2,769\",, \\n212,Anguilla,15, ,13,2,995,,AIA\\n213,Montserrat,13,1,12,0,\"2,603\",200,MSR\\n214,Western Sahara,10,1,8,1,17,2,ESH\\n215,MS Zaandam,9,2,7,0,,, \\n216,Marshall Islands,4, ,4,0,67,,MHL\\n217,Wallis and Futuna,4, ,1,3,359,,WLF\\n218,Samoa,2, ,2,0,10,,WSM\\n219,Micronesia,1, ,,1,9,,FSM\\n220,Vanuatu,1, ,1,0,3,,VUT\\n221,China,\"87,988\",\"4,635\",\"82,352\",\"1,001\",61,3,CHN\\n'}"
            ]
          },
          "metadata": {},
          "execution_count": 6
        }
      ]
    },
    {
      "cell_type": "code",
      "metadata": {
        "id": "qd0mHOxqalyq",
        "colab": {
          "base_uri": "https://localhost:8080/",
          "height": 423
        },
        "outputId": "09021668-3257-47b9-cfcc-265108dea315"
      },
      "source": [
        "df"
      ],
      "execution_count": 10,
      "outputs": [
        {
          "output_type": "execute_result",
          "data": {
            "text/plain": [
              "     S.no            Country  TotalCases TotalDeaths Total Recovered  \\\n",
              "0       1                USA  23,848,410     397,994      14,112,119   \n",
              "1       2              India  10,528,508     151,954      10,162,738   \n",
              "2       3             Brazil   8,326,115     207,160       7,339,703   \n",
              "3       4             Russia   3,495,816      63,940       2,882,044   \n",
              "4       5                 UK   3,260,258      86,015       1,406,967   \n",
              "..    ...                ...         ...         ...             ...   \n",
              "216   217  Wallis and Futuna           4                           1   \n",
              "217   218              Samoa           2                           2   \n",
              "218   219         Micronesia           1                         NaN   \n",
              "219   220            Vanuatu           1                           1   \n",
              "220   221              China      87,988       4,635          82,352   \n",
              "\n",
              "    Active cases Totalcases/1M TotalDeath/1M iso_alpha  \n",
              "0      9,338,297        71,822         1,199       USA  \n",
              "1        213,816         7,589           110       IND  \n",
              "2        779,252        39,021           971       BRA  \n",
              "3        549,832        23,949           438       RUS  \n",
              "4      1,767,276        47,890         1,263       UKR  \n",
              "..           ...           ...           ...       ...  \n",
              "216            3           359           NaN       WLF  \n",
              "217            0            10           NaN       WSM  \n",
              "218            1             9           NaN       FSM  \n",
              "219            0             3           NaN       VUT  \n",
              "220        1,001            61             3       CHN  \n",
              "\n",
              "[221 rows x 9 columns]"
            ],
            "text/html": [
              "\n",
              "  <div id=\"df-e728f5ab-7f87-4432-b186-dcbce94c1b82\">\n",
              "    <div class=\"colab-df-container\">\n",
              "      <div>\n",
              "<style scoped>\n",
              "    .dataframe tbody tr th:only-of-type {\n",
              "        vertical-align: middle;\n",
              "    }\n",
              "\n",
              "    .dataframe tbody tr th {\n",
              "        vertical-align: top;\n",
              "    }\n",
              "\n",
              "    .dataframe thead th {\n",
              "        text-align: right;\n",
              "    }\n",
              "</style>\n",
              "<table border=\"1\" class=\"dataframe\">\n",
              "  <thead>\n",
              "    <tr style=\"text-align: right;\">\n",
              "      <th></th>\n",
              "      <th>S.no</th>\n",
              "      <th>Country</th>\n",
              "      <th>TotalCases</th>\n",
              "      <th>TotalDeaths</th>\n",
              "      <th>Total Recovered</th>\n",
              "      <th>Active cases</th>\n",
              "      <th>Totalcases/1M</th>\n",
              "      <th>TotalDeath/1M</th>\n",
              "      <th>iso_alpha</th>\n",
              "    </tr>\n",
              "  </thead>\n",
              "  <tbody>\n",
              "    <tr>\n",
              "      <th>0</th>\n",
              "      <td>1</td>\n",
              "      <td>USA</td>\n",
              "      <td>23,848,410</td>\n",
              "      <td>397,994</td>\n",
              "      <td>14,112,119</td>\n",
              "      <td>9,338,297</td>\n",
              "      <td>71,822</td>\n",
              "      <td>1,199</td>\n",
              "      <td>USA</td>\n",
              "    </tr>\n",
              "    <tr>\n",
              "      <th>1</th>\n",
              "      <td>2</td>\n",
              "      <td>India</td>\n",
              "      <td>10,528,508</td>\n",
              "      <td>151,954</td>\n",
              "      <td>10,162,738</td>\n",
              "      <td>213,816</td>\n",
              "      <td>7,589</td>\n",
              "      <td>110</td>\n",
              "      <td>IND</td>\n",
              "    </tr>\n",
              "    <tr>\n",
              "      <th>2</th>\n",
              "      <td>3</td>\n",
              "      <td>Brazil</td>\n",
              "      <td>8,326,115</td>\n",
              "      <td>207,160</td>\n",
              "      <td>7,339,703</td>\n",
              "      <td>779,252</td>\n",
              "      <td>39,021</td>\n",
              "      <td>971</td>\n",
              "      <td>BRA</td>\n",
              "    </tr>\n",
              "    <tr>\n",
              "      <th>3</th>\n",
              "      <td>4</td>\n",
              "      <td>Russia</td>\n",
              "      <td>3,495,816</td>\n",
              "      <td>63,940</td>\n",
              "      <td>2,882,044</td>\n",
              "      <td>549,832</td>\n",
              "      <td>23,949</td>\n",
              "      <td>438</td>\n",
              "      <td>RUS</td>\n",
              "    </tr>\n",
              "    <tr>\n",
              "      <th>4</th>\n",
              "      <td>5</td>\n",
              "      <td>UK</td>\n",
              "      <td>3,260,258</td>\n",
              "      <td>86,015</td>\n",
              "      <td>1,406,967</td>\n",
              "      <td>1,767,276</td>\n",
              "      <td>47,890</td>\n",
              "      <td>1,263</td>\n",
              "      <td>UKR</td>\n",
              "    </tr>\n",
              "    <tr>\n",
              "      <th>...</th>\n",
              "      <td>...</td>\n",
              "      <td>...</td>\n",
              "      <td>...</td>\n",
              "      <td>...</td>\n",
              "      <td>...</td>\n",
              "      <td>...</td>\n",
              "      <td>...</td>\n",
              "      <td>...</td>\n",
              "      <td>...</td>\n",
              "    </tr>\n",
              "    <tr>\n",
              "      <th>216</th>\n",
              "      <td>217</td>\n",
              "      <td>Wallis and Futuna</td>\n",
              "      <td>4</td>\n",
              "      <td></td>\n",
              "      <td>1</td>\n",
              "      <td>3</td>\n",
              "      <td>359</td>\n",
              "      <td>NaN</td>\n",
              "      <td>WLF</td>\n",
              "    </tr>\n",
              "    <tr>\n",
              "      <th>217</th>\n",
              "      <td>218</td>\n",
              "      <td>Samoa</td>\n",
              "      <td>2</td>\n",
              "      <td></td>\n",
              "      <td>2</td>\n",
              "      <td>0</td>\n",
              "      <td>10</td>\n",
              "      <td>NaN</td>\n",
              "      <td>WSM</td>\n",
              "    </tr>\n",
              "    <tr>\n",
              "      <th>218</th>\n",
              "      <td>219</td>\n",
              "      <td>Micronesia</td>\n",
              "      <td>1</td>\n",
              "      <td></td>\n",
              "      <td>NaN</td>\n",
              "      <td>1</td>\n",
              "      <td>9</td>\n",
              "      <td>NaN</td>\n",
              "      <td>FSM</td>\n",
              "    </tr>\n",
              "    <tr>\n",
              "      <th>219</th>\n",
              "      <td>220</td>\n",
              "      <td>Vanuatu</td>\n",
              "      <td>1</td>\n",
              "      <td></td>\n",
              "      <td>1</td>\n",
              "      <td>0</td>\n",
              "      <td>3</td>\n",
              "      <td>NaN</td>\n",
              "      <td>VUT</td>\n",
              "    </tr>\n",
              "    <tr>\n",
              "      <th>220</th>\n",
              "      <td>221</td>\n",
              "      <td>China</td>\n",
              "      <td>87,988</td>\n",
              "      <td>4,635</td>\n",
              "      <td>82,352</td>\n",
              "      <td>1,001</td>\n",
              "      <td>61</td>\n",
              "      <td>3</td>\n",
              "      <td>CHN</td>\n",
              "    </tr>\n",
              "  </tbody>\n",
              "</table>\n",
              "<p>221 rows × 9 columns</p>\n",
              "</div>\n",
              "      <button class=\"colab-df-convert\" onclick=\"convertToInteractive('df-e728f5ab-7f87-4432-b186-dcbce94c1b82')\"\n",
              "              title=\"Convert this dataframe to an interactive table.\"\n",
              "              style=\"display:none;\">\n",
              "        \n",
              "  <svg xmlns=\"http://www.w3.org/2000/svg\" height=\"24px\"viewBox=\"0 0 24 24\"\n",
              "       width=\"24px\">\n",
              "    <path d=\"M0 0h24v24H0V0z\" fill=\"none\"/>\n",
              "    <path d=\"M18.56 5.44l.94 2.06.94-2.06 2.06-.94-2.06-.94-.94-2.06-.94 2.06-2.06.94zm-11 1L8.5 8.5l.94-2.06 2.06-.94-2.06-.94L8.5 2.5l-.94 2.06-2.06.94zm10 10l.94 2.06.94-2.06 2.06-.94-2.06-.94-.94-2.06-.94 2.06-2.06.94z\"/><path d=\"M17.41 7.96l-1.37-1.37c-.4-.4-.92-.59-1.43-.59-.52 0-1.04.2-1.43.59L10.3 9.45l-7.72 7.72c-.78.78-.78 2.05 0 2.83L4 21.41c.39.39.9.59 1.41.59.51 0 1.02-.2 1.41-.59l7.78-7.78 2.81-2.81c.8-.78.8-2.07 0-2.86zM5.41 20L4 18.59l7.72-7.72 1.47 1.35L5.41 20z\"/>\n",
              "  </svg>\n",
              "      </button>\n",
              "      \n",
              "  <style>\n",
              "    .colab-df-container {\n",
              "      display:flex;\n",
              "      flex-wrap:wrap;\n",
              "      gap: 12px;\n",
              "    }\n",
              "\n",
              "    .colab-df-convert {\n",
              "      background-color: #E8F0FE;\n",
              "      border: none;\n",
              "      border-radius: 50%;\n",
              "      cursor: pointer;\n",
              "      display: none;\n",
              "      fill: #1967D2;\n",
              "      height: 32px;\n",
              "      padding: 0 0 0 0;\n",
              "      width: 32px;\n",
              "    }\n",
              "\n",
              "    .colab-df-convert:hover {\n",
              "      background-color: #E2EBFA;\n",
              "      box-shadow: 0px 1px 2px rgba(60, 64, 67, 0.3), 0px 1px 3px 1px rgba(60, 64, 67, 0.15);\n",
              "      fill: #174EA6;\n",
              "    }\n",
              "\n",
              "    [theme=dark] .colab-df-convert {\n",
              "      background-color: #3B4455;\n",
              "      fill: #D2E3FC;\n",
              "    }\n",
              "\n",
              "    [theme=dark] .colab-df-convert:hover {\n",
              "      background-color: #434B5C;\n",
              "      box-shadow: 0px 1px 3px 1px rgba(0, 0, 0, 0.15);\n",
              "      filter: drop-shadow(0px 1px 2px rgba(0, 0, 0, 0.3));\n",
              "      fill: #FFFFFF;\n",
              "    }\n",
              "  </style>\n",
              "\n",
              "      <script>\n",
              "        const buttonEl =\n",
              "          document.querySelector('#df-e728f5ab-7f87-4432-b186-dcbce94c1b82 button.colab-df-convert');\n",
              "        buttonEl.style.display =\n",
              "          google.colab.kernel.accessAllowed ? 'block' : 'none';\n",
              "\n",
              "        async function convertToInteractive(key) {\n",
              "          const element = document.querySelector('#df-e728f5ab-7f87-4432-b186-dcbce94c1b82');\n",
              "          const dataTable =\n",
              "            await google.colab.kernel.invokeFunction('convertToInteractive',\n",
              "                                                     [key], {});\n",
              "          if (!dataTable) return;\n",
              "\n",
              "          const docLinkHtml = 'Like what you see? Visit the ' +\n",
              "            '<a target=\"_blank\" href=https://colab.research.google.com/notebooks/data_table.ipynb>data table notebook</a>'\n",
              "            + ' to learn more about interactive tables.';\n",
              "          element.innerHTML = '';\n",
              "          dataTable['output_type'] = 'display_data';\n",
              "          await google.colab.output.renderOutput(dataTable, element);\n",
              "          const docLink = document.createElement('div');\n",
              "          docLink.innerHTML = docLinkHtml;\n",
              "          element.appendChild(docLink);\n",
              "        }\n",
              "      </script>\n",
              "    </div>\n",
              "  </div>\n",
              "  "
            ]
          },
          "metadata": {},
          "execution_count": 10
        }
      ]
    },
    {
      "cell_type": "code",
      "metadata": {
        "id": "WQRZAfzJam5F",
        "colab": {
          "base_uri": "https://localhost:8080/",
          "height": 542
        },
        "outputId": "e197f49a-5b47-4581-b2db-292e882b2b6c"
      },
      "source": [
        "px.bar(df.head(15),x=\"Country\",y=\"TotalDeaths\",color=\"Country\")"
      ],
      "execution_count": 11,
      "outputs": [
        {
          "output_type": "display_data",
          "data": {
            "text/html": [
              "<html>\n",
              "<head><meta charset=\"utf-8\" /></head>\n",
              "<body>\n",
              "    <div>            <script src=\"https://cdnjs.cloudflare.com/ajax/libs/mathjax/2.7.5/MathJax.js?config=TeX-AMS-MML_SVG\"></script><script type=\"text/javascript\">if (window.MathJax) {MathJax.Hub.Config({SVG: {font: \"STIX-Web\"}});}</script>                <script type=\"text/javascript\">window.PlotlyConfig = {MathJaxConfig: 'local'};</script>\n",
              "        <script src=\"https://cdn.plot.ly/plotly-2.8.3.min.js\"></script>                <div id=\"25a0255b-430b-4e50-875b-f93e8524c9a9\" class=\"plotly-graph-div\" style=\"height:525px; width:100%;\"></div>            <script type=\"text/javascript\">                                    window.PLOTLYENV=window.PLOTLYENV || {};                                    if (document.getElementById(\"25a0255b-430b-4e50-875b-f93e8524c9a9\")) {                    Plotly.newPlot(                        \"25a0255b-430b-4e50-875b-f93e8524c9a9\",                        [{\"alignmentgroup\":\"True\",\"hovertemplate\":\"Country=%{x}<br>TotalDeaths=%{y}<extra></extra>\",\"legendgroup\":\"USA\",\"marker\":{\"color\":\"#636efa\",\"pattern\":{\"shape\":\"\"}},\"name\":\"USA\",\"offsetgroup\":\"USA\",\"orientation\":\"v\",\"showlegend\":true,\"textposition\":\"auto\",\"x\":[\"USA\"],\"xaxis\":\"x\",\"y\":[\"397,994\"],\"yaxis\":\"y\",\"type\":\"bar\"},{\"alignmentgroup\":\"True\",\"hovertemplate\":\"Country=%{x}<br>TotalDeaths=%{y}<extra></extra>\",\"legendgroup\":\"India\",\"marker\":{\"color\":\"#EF553B\",\"pattern\":{\"shape\":\"\"}},\"name\":\"India\",\"offsetgroup\":\"India\",\"orientation\":\"v\",\"showlegend\":true,\"textposition\":\"auto\",\"x\":[\"India\"],\"xaxis\":\"x\",\"y\":[\"151,954\"],\"yaxis\":\"y\",\"type\":\"bar\"},{\"alignmentgroup\":\"True\",\"hovertemplate\":\"Country=%{x}<br>TotalDeaths=%{y}<extra></extra>\",\"legendgroup\":\"Brazil\",\"marker\":{\"color\":\"#00cc96\",\"pattern\":{\"shape\":\"\"}},\"name\":\"Brazil\",\"offsetgroup\":\"Brazil\",\"orientation\":\"v\",\"showlegend\":true,\"textposition\":\"auto\",\"x\":[\"Brazil\"],\"xaxis\":\"x\",\"y\":[\"207,160\"],\"yaxis\":\"y\",\"type\":\"bar\"},{\"alignmentgroup\":\"True\",\"hovertemplate\":\"Country=%{x}<br>TotalDeaths=%{y}<extra></extra>\",\"legendgroup\":\"Russia\",\"marker\":{\"color\":\"#ab63fa\",\"pattern\":{\"shape\":\"\"}},\"name\":\"Russia\",\"offsetgroup\":\"Russia\",\"orientation\":\"v\",\"showlegend\":true,\"textposition\":\"auto\",\"x\":[\"Russia\"],\"xaxis\":\"x\",\"y\":[\"63,940\"],\"yaxis\":\"y\",\"type\":\"bar\"},{\"alignmentgroup\":\"True\",\"hovertemplate\":\"Country=%{x}<br>TotalDeaths=%{y}<extra></extra>\",\"legendgroup\":\"UK\",\"marker\":{\"color\":\"#FFA15A\",\"pattern\":{\"shape\":\"\"}},\"name\":\"UK\",\"offsetgroup\":\"UK\",\"orientation\":\"v\",\"showlegend\":true,\"textposition\":\"auto\",\"x\":[\"UK\"],\"xaxis\":\"x\",\"y\":[\"86,015\"],\"yaxis\":\"y\",\"type\":\"bar\"},{\"alignmentgroup\":\"True\",\"hovertemplate\":\"Country=%{x}<br>TotalDeaths=%{y}<extra></extra>\",\"legendgroup\":\"France\",\"marker\":{\"color\":\"#19d3f3\",\"pattern\":{\"shape\":\"\"}},\"name\":\"France\",\"offsetgroup\":\"France\",\"orientation\":\"v\",\"showlegend\":true,\"textposition\":\"auto\",\"x\":[\"France\"],\"xaxis\":\"x\",\"y\":[\"69,313\"],\"yaxis\":\"y\",\"type\":\"bar\"},{\"alignmentgroup\":\"True\",\"hovertemplate\":\"Country=%{x}<br>TotalDeaths=%{y}<extra></extra>\",\"legendgroup\":\"Turkey\",\"marker\":{\"color\":\"#FF6692\",\"pattern\":{\"shape\":\"\"}},\"name\":\"Turkey\",\"offsetgroup\":\"Turkey\",\"orientation\":\"v\",\"showlegend\":true,\"textposition\":\"auto\",\"x\":[\"Turkey\"],\"xaxis\":\"x\",\"y\":[\"23,495\"],\"yaxis\":\"y\",\"type\":\"bar\"},{\"alignmentgroup\":\"True\",\"hovertemplate\":\"Country=%{x}<br>TotalDeaths=%{y}<extra></extra>\",\"legendgroup\":\"Italy\",\"marker\":{\"color\":\"#B6E880\",\"pattern\":{\"shape\":\"\"}},\"name\":\"Italy\",\"offsetgroup\":\"Italy\",\"orientation\":\"v\",\"showlegend\":true,\"textposition\":\"auto\",\"x\":[\"Italy\"],\"xaxis\":\"x\",\"y\":[\"80,848\"],\"yaxis\":\"y\",\"type\":\"bar\"},{\"alignmentgroup\":\"True\",\"hovertemplate\":\"Country=%{x}<br>TotalDeaths=%{y}<extra></extra>\",\"legendgroup\":\"Spain\",\"marker\":{\"color\":\"#FF97FF\",\"pattern\":{\"shape\":\"\"}},\"name\":\"Spain\",\"offsetgroup\":\"Spain\",\"orientation\":\"v\",\"showlegend\":true,\"textposition\":\"auto\",\"x\":[\"Spain\"],\"xaxis\":\"x\",\"y\":[\"53,079\"],\"yaxis\":\"y\",\"type\":\"bar\"},{\"alignmentgroup\":\"True\",\"hovertemplate\":\"Country=%{x}<br>TotalDeaths=%{y}<extra></extra>\",\"legendgroup\":\"Germany\",\"marker\":{\"color\":\"#FECB52\",\"pattern\":{\"shape\":\"\"}},\"name\":\"Germany\",\"offsetgroup\":\"Germany\",\"orientation\":\"v\",\"showlegend\":true,\"textposition\":\"auto\",\"x\":[\"Germany\"],\"xaxis\":\"x\",\"y\":[\"45,492\"],\"yaxis\":\"y\",\"type\":\"bar\"},{\"alignmentgroup\":\"True\",\"hovertemplate\":\"Country=%{x}<br>TotalDeaths=%{y}<extra></extra>\",\"legendgroup\":\"Colombia\",\"marker\":{\"color\":\"#636efa\",\"pattern\":{\"shape\":\"\"}},\"name\":\"Colombia\",\"offsetgroup\":\"Colombia\",\"orientation\":\"v\",\"showlegend\":true,\"textposition\":\"auto\",\"x\":[\"Colombia\"],\"xaxis\":\"x\",\"y\":[\"47,491\"],\"yaxis\":\"y\",\"type\":\"bar\"},{\"alignmentgroup\":\"True\",\"hovertemplate\":\"Country=%{x}<br>TotalDeaths=%{y}<extra></extra>\",\"legendgroup\":\"Argentina\",\"marker\":{\"color\":\"#EF553B\",\"pattern\":{\"shape\":\"\"}},\"name\":\"Argentina\",\"offsetgroup\":\"Argentina\",\"orientation\":\"v\",\"showlegend\":true,\"textposition\":\"auto\",\"x\":[\"Argentina\"],\"xaxis\":\"x\",\"y\":[\"45,125\"],\"yaxis\":\"y\",\"type\":\"bar\"},{\"alignmentgroup\":\"True\",\"hovertemplate\":\"Country=%{x}<br>TotalDeaths=%{y}<extra></extra>\",\"legendgroup\":\"Mexico\",\"marker\":{\"color\":\"#00cc96\",\"pattern\":{\"shape\":\"\"}},\"name\":\"Mexico\",\"offsetgroup\":\"Mexico\",\"orientation\":\"v\",\"showlegend\":true,\"textposition\":\"auto\",\"x\":[\"Mexico\"],\"xaxis\":\"x\",\"y\":[\"137,916\"],\"yaxis\":\"y\",\"type\":\"bar\"},{\"alignmentgroup\":\"True\",\"hovertemplate\":\"Country=%{x}<br>TotalDeaths=%{y}<extra></extra>\",\"legendgroup\":\"Poland\",\"marker\":{\"color\":\"#ab63fa\",\"pattern\":{\"shape\":\"\"}},\"name\":\"Poland\",\"offsetgroup\":\"Poland\",\"orientation\":\"v\",\"showlegend\":true,\"textposition\":\"auto\",\"x\":[\"Poland\"],\"xaxis\":\"x\",\"y\":[\"32,456\"],\"yaxis\":\"y\",\"type\":\"bar\"},{\"alignmentgroup\":\"True\",\"hovertemplate\":\"Country=%{x}<br>TotalDeaths=%{y}<extra></extra>\",\"legendgroup\":\"Iran\",\"marker\":{\"color\":\"#FFA15A\",\"pattern\":{\"shape\":\"\"}},\"name\":\"Iran\",\"offsetgroup\":\"Iran\",\"orientation\":\"v\",\"showlegend\":true,\"textposition\":\"auto\",\"x\":[\"Iran\"],\"xaxis\":\"x\",\"y\":[\"56,538\"],\"yaxis\":\"y\",\"type\":\"bar\"}],                        {\"template\":{\"data\":{\"bar\":[{\"error_x\":{\"color\":\"#2a3f5f\"},\"error_y\":{\"color\":\"#2a3f5f\"},\"marker\":{\"line\":{\"color\":\"#E5ECF6\",\"width\":0.5},\"pattern\":{\"fillmode\":\"overlay\",\"size\":10,\"solidity\":0.2}},\"type\":\"bar\"}],\"barpolar\":[{\"marker\":{\"line\":{\"color\":\"#E5ECF6\",\"width\":0.5},\"pattern\":{\"fillmode\":\"overlay\",\"size\":10,\"solidity\":0.2}},\"type\":\"barpolar\"}],\"carpet\":[{\"aaxis\":{\"endlinecolor\":\"#2a3f5f\",\"gridcolor\":\"white\",\"linecolor\":\"white\",\"minorgridcolor\":\"white\",\"startlinecolor\":\"#2a3f5f\"},\"baxis\":{\"endlinecolor\":\"#2a3f5f\",\"gridcolor\":\"white\",\"linecolor\":\"white\",\"minorgridcolor\":\"white\",\"startlinecolor\":\"#2a3f5f\"},\"type\":\"carpet\"}],\"choropleth\":[{\"colorbar\":{\"outlinewidth\":0,\"ticks\":\"\"},\"type\":\"choropleth\"}],\"contour\":[{\"colorbar\":{\"outlinewidth\":0,\"ticks\":\"\"},\"colorscale\":[[0.0,\"#0d0887\"],[0.1111111111111111,\"#46039f\"],[0.2222222222222222,\"#7201a8\"],[0.3333333333333333,\"#9c179e\"],[0.4444444444444444,\"#bd3786\"],[0.5555555555555556,\"#d8576b\"],[0.6666666666666666,\"#ed7953\"],[0.7777777777777778,\"#fb9f3a\"],[0.8888888888888888,\"#fdca26\"],[1.0,\"#f0f921\"]],\"type\":\"contour\"}],\"contourcarpet\":[{\"colorbar\":{\"outlinewidth\":0,\"ticks\":\"\"},\"type\":\"contourcarpet\"}],\"heatmap\":[{\"colorbar\":{\"outlinewidth\":0,\"ticks\":\"\"},\"colorscale\":[[0.0,\"#0d0887\"],[0.1111111111111111,\"#46039f\"],[0.2222222222222222,\"#7201a8\"],[0.3333333333333333,\"#9c179e\"],[0.4444444444444444,\"#bd3786\"],[0.5555555555555556,\"#d8576b\"],[0.6666666666666666,\"#ed7953\"],[0.7777777777777778,\"#fb9f3a\"],[0.8888888888888888,\"#fdca26\"],[1.0,\"#f0f921\"]],\"type\":\"heatmap\"}],\"heatmapgl\":[{\"colorbar\":{\"outlinewidth\":0,\"ticks\":\"\"},\"colorscale\":[[0.0,\"#0d0887\"],[0.1111111111111111,\"#46039f\"],[0.2222222222222222,\"#7201a8\"],[0.3333333333333333,\"#9c179e\"],[0.4444444444444444,\"#bd3786\"],[0.5555555555555556,\"#d8576b\"],[0.6666666666666666,\"#ed7953\"],[0.7777777777777778,\"#fb9f3a\"],[0.8888888888888888,\"#fdca26\"],[1.0,\"#f0f921\"]],\"type\":\"heatmapgl\"}],\"histogram\":[{\"marker\":{\"pattern\":{\"fillmode\":\"overlay\",\"size\":10,\"solidity\":0.2}},\"type\":\"histogram\"}],\"histogram2d\":[{\"colorbar\":{\"outlinewidth\":0,\"ticks\":\"\"},\"colorscale\":[[0.0,\"#0d0887\"],[0.1111111111111111,\"#46039f\"],[0.2222222222222222,\"#7201a8\"],[0.3333333333333333,\"#9c179e\"],[0.4444444444444444,\"#bd3786\"],[0.5555555555555556,\"#d8576b\"],[0.6666666666666666,\"#ed7953\"],[0.7777777777777778,\"#fb9f3a\"],[0.8888888888888888,\"#fdca26\"],[1.0,\"#f0f921\"]],\"type\":\"histogram2d\"}],\"histogram2dcontour\":[{\"colorbar\":{\"outlinewidth\":0,\"ticks\":\"\"},\"colorscale\":[[0.0,\"#0d0887\"],[0.1111111111111111,\"#46039f\"],[0.2222222222222222,\"#7201a8\"],[0.3333333333333333,\"#9c179e\"],[0.4444444444444444,\"#bd3786\"],[0.5555555555555556,\"#d8576b\"],[0.6666666666666666,\"#ed7953\"],[0.7777777777777778,\"#fb9f3a\"],[0.8888888888888888,\"#fdca26\"],[1.0,\"#f0f921\"]],\"type\":\"histogram2dcontour\"}],\"mesh3d\":[{\"colorbar\":{\"outlinewidth\":0,\"ticks\":\"\"},\"type\":\"mesh3d\"}],\"parcoords\":[{\"line\":{\"colorbar\":{\"outlinewidth\":0,\"ticks\":\"\"}},\"type\":\"parcoords\"}],\"pie\":[{\"automargin\":true,\"type\":\"pie\"}],\"scatter\":[{\"marker\":{\"colorbar\":{\"outlinewidth\":0,\"ticks\":\"\"}},\"type\":\"scatter\"}],\"scatter3d\":[{\"line\":{\"colorbar\":{\"outlinewidth\":0,\"ticks\":\"\"}},\"marker\":{\"colorbar\":{\"outlinewidth\":0,\"ticks\":\"\"}},\"type\":\"scatter3d\"}],\"scattercarpet\":[{\"marker\":{\"colorbar\":{\"outlinewidth\":0,\"ticks\":\"\"}},\"type\":\"scattercarpet\"}],\"scattergeo\":[{\"marker\":{\"colorbar\":{\"outlinewidth\":0,\"ticks\":\"\"}},\"type\":\"scattergeo\"}],\"scattergl\":[{\"marker\":{\"colorbar\":{\"outlinewidth\":0,\"ticks\":\"\"}},\"type\":\"scattergl\"}],\"scattermapbox\":[{\"marker\":{\"colorbar\":{\"outlinewidth\":0,\"ticks\":\"\"}},\"type\":\"scattermapbox\"}],\"scatterpolar\":[{\"marker\":{\"colorbar\":{\"outlinewidth\":0,\"ticks\":\"\"}},\"type\":\"scatterpolar\"}],\"scatterpolargl\":[{\"marker\":{\"colorbar\":{\"outlinewidth\":0,\"ticks\":\"\"}},\"type\":\"scatterpolargl\"}],\"scatterternary\":[{\"marker\":{\"colorbar\":{\"outlinewidth\":0,\"ticks\":\"\"}},\"type\":\"scatterternary\"}],\"surface\":[{\"colorbar\":{\"outlinewidth\":0,\"ticks\":\"\"},\"colorscale\":[[0.0,\"#0d0887\"],[0.1111111111111111,\"#46039f\"],[0.2222222222222222,\"#7201a8\"],[0.3333333333333333,\"#9c179e\"],[0.4444444444444444,\"#bd3786\"],[0.5555555555555556,\"#d8576b\"],[0.6666666666666666,\"#ed7953\"],[0.7777777777777778,\"#fb9f3a\"],[0.8888888888888888,\"#fdca26\"],[1.0,\"#f0f921\"]],\"type\":\"surface\"}],\"table\":[{\"cells\":{\"fill\":{\"color\":\"#EBF0F8\"},\"line\":{\"color\":\"white\"}},\"header\":{\"fill\":{\"color\":\"#C8D4E3\"},\"line\":{\"color\":\"white\"}},\"type\":\"table\"}]},\"layout\":{\"annotationdefaults\":{\"arrowcolor\":\"#2a3f5f\",\"arrowhead\":0,\"arrowwidth\":1},\"autotypenumbers\":\"strict\",\"coloraxis\":{\"colorbar\":{\"outlinewidth\":0,\"ticks\":\"\"}},\"colorscale\":{\"diverging\":[[0,\"#8e0152\"],[0.1,\"#c51b7d\"],[0.2,\"#de77ae\"],[0.3,\"#f1b6da\"],[0.4,\"#fde0ef\"],[0.5,\"#f7f7f7\"],[0.6,\"#e6f5d0\"],[0.7,\"#b8e186\"],[0.8,\"#7fbc41\"],[0.9,\"#4d9221\"],[1,\"#276419\"]],\"sequential\":[[0.0,\"#0d0887\"],[0.1111111111111111,\"#46039f\"],[0.2222222222222222,\"#7201a8\"],[0.3333333333333333,\"#9c179e\"],[0.4444444444444444,\"#bd3786\"],[0.5555555555555556,\"#d8576b\"],[0.6666666666666666,\"#ed7953\"],[0.7777777777777778,\"#fb9f3a\"],[0.8888888888888888,\"#fdca26\"],[1.0,\"#f0f921\"]],\"sequentialminus\":[[0.0,\"#0d0887\"],[0.1111111111111111,\"#46039f\"],[0.2222222222222222,\"#7201a8\"],[0.3333333333333333,\"#9c179e\"],[0.4444444444444444,\"#bd3786\"],[0.5555555555555556,\"#d8576b\"],[0.6666666666666666,\"#ed7953\"],[0.7777777777777778,\"#fb9f3a\"],[0.8888888888888888,\"#fdca26\"],[1.0,\"#f0f921\"]]},\"colorway\":[\"#636efa\",\"#EF553B\",\"#00cc96\",\"#ab63fa\",\"#FFA15A\",\"#19d3f3\",\"#FF6692\",\"#B6E880\",\"#FF97FF\",\"#FECB52\"],\"font\":{\"color\":\"#2a3f5f\"},\"geo\":{\"bgcolor\":\"white\",\"lakecolor\":\"white\",\"landcolor\":\"#E5ECF6\",\"showlakes\":true,\"showland\":true,\"subunitcolor\":\"white\"},\"hoverlabel\":{\"align\":\"left\"},\"hovermode\":\"closest\",\"mapbox\":{\"style\":\"light\"},\"paper_bgcolor\":\"white\",\"plot_bgcolor\":\"#E5ECF6\",\"polar\":{\"angularaxis\":{\"gridcolor\":\"white\",\"linecolor\":\"white\",\"ticks\":\"\"},\"bgcolor\":\"#E5ECF6\",\"radialaxis\":{\"gridcolor\":\"white\",\"linecolor\":\"white\",\"ticks\":\"\"}},\"scene\":{\"xaxis\":{\"backgroundcolor\":\"#E5ECF6\",\"gridcolor\":\"white\",\"gridwidth\":2,\"linecolor\":\"white\",\"showbackground\":true,\"ticks\":\"\",\"zerolinecolor\":\"white\"},\"yaxis\":{\"backgroundcolor\":\"#E5ECF6\",\"gridcolor\":\"white\",\"gridwidth\":2,\"linecolor\":\"white\",\"showbackground\":true,\"ticks\":\"\",\"zerolinecolor\":\"white\"},\"zaxis\":{\"backgroundcolor\":\"#E5ECF6\",\"gridcolor\":\"white\",\"gridwidth\":2,\"linecolor\":\"white\",\"showbackground\":true,\"ticks\":\"\",\"zerolinecolor\":\"white\"}},\"shapedefaults\":{\"line\":{\"color\":\"#2a3f5f\"}},\"ternary\":{\"aaxis\":{\"gridcolor\":\"white\",\"linecolor\":\"white\",\"ticks\":\"\"},\"baxis\":{\"gridcolor\":\"white\",\"linecolor\":\"white\",\"ticks\":\"\"},\"bgcolor\":\"#E5ECF6\",\"caxis\":{\"gridcolor\":\"white\",\"linecolor\":\"white\",\"ticks\":\"\"}},\"title\":{\"x\":0.05},\"xaxis\":{\"automargin\":true,\"gridcolor\":\"white\",\"linecolor\":\"white\",\"ticks\":\"\",\"title\":{\"standoff\":15},\"zerolinecolor\":\"white\",\"zerolinewidth\":2},\"yaxis\":{\"automargin\":true,\"gridcolor\":\"white\",\"linecolor\":\"white\",\"ticks\":\"\",\"title\":{\"standoff\":15},\"zerolinecolor\":\"white\",\"zerolinewidth\":2}}},\"xaxis\":{\"anchor\":\"y\",\"domain\":[0.0,1.0],\"title\":{\"text\":\"Country\"},\"categoryorder\":\"array\",\"categoryarray\":[\"USA\",\"India\",\"Brazil\",\"Russia\",\"UK\",\"France\",\"Turkey\",\"Italy\",\"Spain\",\"Germany\",\"Colombia\",\"Argentina\",\"Mexico\",\"Poland\",\"Iran\"]},\"yaxis\":{\"anchor\":\"x\",\"domain\":[0.0,1.0],\"title\":{\"text\":\"TotalDeaths\"}},\"legend\":{\"title\":{\"text\":\"Country\"},\"tracegroupgap\":0},\"margin\":{\"t\":60},\"barmode\":\"relative\"},                        {\"responsive\": true}                    ).then(function(){\n",
              "                            \n",
              "var gd = document.getElementById('25a0255b-430b-4e50-875b-f93e8524c9a9');\n",
              "var x = new MutationObserver(function (mutations, observer) {{\n",
              "        var display = window.getComputedStyle(gd).display;\n",
              "        if (!display || display === 'none') {{\n",
              "            console.log([gd, 'removed!']);\n",
              "            Plotly.purge(gd);\n",
              "            observer.disconnect();\n",
              "        }}\n",
              "}});\n",
              "\n",
              "// Listen for the removal of the full notebook cells\n",
              "var notebookContainer = gd.closest('#notebook-container');\n",
              "if (notebookContainer) {{\n",
              "    x.observe(notebookContainer, {childList: true});\n",
              "}}\n",
              "\n",
              "// Listen for the clearing of the current output cell\n",
              "var outputEl = gd.closest('.output');\n",
              "if (outputEl) {{\n",
              "    x.observe(outputEl, {childList: true});\n",
              "}}\n",
              "\n",
              "                        })                };                            </script>        </div>\n",
              "</body>\n",
              "</html>"
            ]
          },
          "metadata": {}
        }
      ]
    },
    {
      "cell_type": "markdown",
      "metadata": {
        "id": "eOmxA-CHazns"
      },
      "source": [
        "##Task 3: Geographic Visualization using Choropleth maps"
      ]
    },
    {
      "cell_type": "code",
      "metadata": {
        "id": "RrHNwZcKbIMZ"
      },
      "source": [
        "# A choropleth map displays divided geographical areas or regions that are coloured, shaded or patterned in relation to a data variable. \n",
        "#Amazing Representation of data in a map . Choropleth maps provide an easy way to visualize how a measurement varies across a geographic area.\n",
        "\n",
        "#Dataset 1\n",
        "#parameters= dataset, locations= ISOALPHA, color, hover_name, color_continuous_scale= [RdYlGn, Blues, Viridis...], \n",
        "#"
      ],
      "execution_count": null,
      "outputs": []
    },
    {
      "cell_type": "code",
      "metadata": {
        "id": "k-Ut-vPWbJgO"
      },
      "source": [],
      "execution_count": null,
      "outputs": []
    },
    {
      "cell_type": "code",
      "metadata": {
        "id": "TzLU7oKJb-Qv"
      },
      "source": [],
      "execution_count": null,
      "outputs": []
    },
    {
      "cell_type": "code",
      "metadata": {
        "id": "xpd8saa1bJ7I"
      },
      "source": [],
      "execution_count": null,
      "outputs": []
    },
    {
      "cell_type": "markdown",
      "metadata": {
        "id": "X9AMtNC0bKWt"
      },
      "source": [
        "##Task 4: Importing and Analyzing the dataset(Dataset 2: Covid-19 Pre-existing condition Medical dataset; source: CDC,US)"
      ]
    },
    {
      "cell_type": "code",
      "metadata": {
        "id": "qtUsuHY8cWXA"
      },
      "source": [],
      "execution_count": null,
      "outputs": []
    },
    {
      "cell_type": "code",
      "metadata": {
        "id": "88O3p0xjcgPV"
      },
      "source": [],
      "execution_count": null,
      "outputs": []
    },
    {
      "cell_type": "code",
      "metadata": {
        "id": "GknPfLf-cgUW"
      },
      "source": [],
      "execution_count": null,
      "outputs": []
    },
    {
      "cell_type": "code",
      "metadata": {
        "id": "HWPRlYORcgaN"
      },
      "source": [],
      "execution_count": null,
      "outputs": []
    },
    {
      "cell_type": "markdown",
      "metadata": {
        "id": "IK6E5J-ccscZ"
      },
      "source": [
        "##Task 5: Visualizing the Pre-existing condition Medical dataset"
      ]
    },
    {
      "cell_type": "code",
      "metadata": {
        "id": "UOQiQ9u-c0dW"
      },
      "source": [],
      "execution_count": null,
      "outputs": []
    },
    {
      "cell_type": "code",
      "metadata": {
        "id": "K2SuEKGdc--1"
      },
      "source": [],
      "execution_count": null,
      "outputs": []
    },
    {
      "cell_type": "code",
      "metadata": {
        "id": "YmBb4kwsc_I7"
      },
      "source": [],
      "execution_count": null,
      "outputs": []
    },
    {
      "cell_type": "code",
      "metadata": {
        "id": "kJj6dHRXc_V5"
      },
      "source": [],
      "execution_count": null,
      "outputs": []
    },
    {
      "cell_type": "markdown",
      "metadata": {
        "id": "mDbo-FR3dFEf"
      },
      "source": [
        "##Task 6: WordCloud Text Visualization"
      ]
    },
    {
      "cell_type": "code",
      "metadata": {
        "id": "vrx-4zzkdJ0n"
      },
      "source": [
        "#Step a= Convert the columns with conditions and condition group into list using tolist() function\n",
        "#Step b= Convert the list to one single string\n",
        "#Step c= Convert the string into WordCloud\n",
        "# WordCloud imported in task 1. # WordCloud visualization needs matplotlib"
      ],
      "execution_count": null,
      "outputs": []
    },
    {
      "cell_type": "markdown",
      "metadata": {
        "id": "2UIhe4NiejTn"
      },
      "source": [
        "###WordCloud 1- Condition group"
      ]
    },
    {
      "cell_type": "code",
      "metadata": {
        "id": "8pJ_3FX4dsq8"
      },
      "source": [],
      "execution_count": null,
      "outputs": []
    },
    {
      "cell_type": "code",
      "metadata": {
        "id": "jcVmJlMqds29"
      },
      "source": [],
      "execution_count": null,
      "outputs": []
    },
    {
      "cell_type": "code",
      "metadata": {
        "id": "MtmRroiids9G"
      },
      "source": [],
      "execution_count": null,
      "outputs": []
    },
    {
      "cell_type": "markdown",
      "metadata": {
        "id": "2mp3iAzVesmn"
      },
      "source": [
        "###WordCloud 2- Conditions"
      ]
    },
    {
      "cell_type": "code",
      "metadata": {
        "id": "xo0ao9JVdtN3"
      },
      "source": [],
      "execution_count": null,
      "outputs": []
    },
    {
      "cell_type": "code",
      "metadata": {
        "id": "zN6wFWp4dtu8"
      },
      "source": [],
      "execution_count": null,
      "outputs": []
    },
    {
      "cell_type": "code",
      "metadata": {
        "id": "7-PHH3TydtzX"
      },
      "source": [],
      "execution_count": null,
      "outputs": []
    }
  ]
}